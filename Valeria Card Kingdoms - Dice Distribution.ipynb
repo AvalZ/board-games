{
 "cells": [
  {
   "cell_type": "markdown",
   "metadata": {},
   "source": [
    "# Citizen activation probability for Valeria Card Kingdom Harvest Phase"
   ]
  },
  {
   "cell_type": "code",
   "execution_count": 3,
   "metadata": {},
   "outputs": [],
   "source": [
    "# Setup\n",
    "import random\n",
    "N = 100000\n",
    "\n",
    "import matplotlib.pyplot as plt"
   ]
  },
  {
   "cell_type": "markdown",
   "metadata": {},
   "source": [
    "## Normal single die distribution"
   ]
  },
  {
   "cell_type": "code",
   "execution_count": 4,
   "metadata": {},
   "outputs": [
    {
     "name": "stdout",
     "output_type": "stream",
     "text": [
      "{1: 0.16442, 2: 0.16596, 3: 0.16846, 4: 0.16604, 5: 0.16735, 6: 0.16777}\n"
     ]
    }
   ],
   "source": [
    "normal_results = []\n",
    "\n",
    "for i in range(N):\n",
    "    normal_die = random.randint(1,6)\n",
    "    \n",
    "    normal_results.append(normal_die)\n",
    "\n",
    "d = {x:normal_results.count(x)/N  for x in set(normal_results)}\n",
    "print(d)"
   ]
  },
  {
   "cell_type": "code",
   "execution_count": 5,
   "metadata": {},
   "outputs": [
    {
     "name": "stdout",
     "output_type": "stream",
     "text": [
      "[(1, 0.16442), (2, 0.16596), (3, 0.16846), (4, 0.16604), (5, 0.16735), (6, 0.16777)]\n"
     ]
    },
    {
     "data": {
      "image/png": "[encoded data removed]",
      "text/plain": [
       "<Figure size 432x288 with 1 Axes>"
      ]
     },
     "metadata": {},
     "output_type": "display_data"
    }
   ],
   "source": [
    "lists = sorted(d.items()) # sorted by key, return a list of tuples\n",
    "print(lists)\n",
    "\n",
    "x, y = zip(*lists) # unpack a list of pairs into two tuples\n",
    "\n",
    "plt.plot(x, y)\n",
    "plt.ylim(ymin=0, ymax=1)\n",
    "plt.show()"
   ]
  },
  {
   "cell_type": "markdown",
   "metadata": {},
   "source": [
    "A Citizen is activated when its activation number is matched by either\n",
    "\n",
    "* the first die,\n",
    "* the second die,\n",
    "* the sum of the two dice"
   ]
  },
  {
   "cell_type": "markdown",
   "metadata": {},
   "source": [
    "## Normal two dice distribution"
   ]
  },
  {
   "cell_type": "code",
   "execution_count": 6,
   "metadata": {},
   "outputs": [
    {
     "name": "stdout",
     "output_type": "stream",
     "text": [
      "{2: 0.02818, 3: 0.05445, 4: 0.08322, 5: 0.10857, 6: 0.13967, 7: 0.16755, 8: 0.1395, 9: 0.11189, 10: 0.08428, 11: 0.05572, 12: 0.02697}\n"
     ]
    }
   ],
   "source": [
    "normal_results = []\n",
    "\n",
    "for i in range(N):\n",
    "    normal_dice = [random.randint(1,6), random.randint(1,6)]\n",
    "    \n",
    "    normal_results.append(normal_dice[0] + normal_dice[1])\n",
    "\n",
    "d = {x:normal_results.count(x)/N for x in set(normal_results)}\n",
    "print(d)"
   ]
  },
  {
   "cell_type": "code",
   "execution_count": 7,
   "metadata": {
    "scrolled": false
   },
   "outputs": [
    {
     "name": "stdout",
     "output_type": "stream",
     "text": [
      "[(2, 0.02818), (3, 0.05445), (4, 0.08322), (5, 0.10857), (6, 0.13967), (7, 0.16755), (8, 0.1395), (9, 0.11189), (10, 0.08428), (11, 0.05572), (12, 0.02697)]\n"
     ]
    },
    {
     "data": {
      "image/png": "[encoded data removed]",
      "text/plain": [
       "<Figure size 432x288 with 1 Axes>"
      ]
     },
     "metadata": {},
     "output_type": "display_data"
    }
   ],
   "source": [
    "lists = sorted(d.items()) # sorted by key, return a list of tuples\n",
    "print(lists)\n",
    "\n",
    "x, y = zip(*lists) # unpack a list of pairs into two tuples\n",
    "\n",
    "plt.plot(x, y)\n",
    "plt.ylim(ymin=0, ymax=1)\n",
    "plt.show()"
   ]
  },
  {
   "cell_type": "markdown",
   "metadata": {},
   "source": [
    "## Two dice, count single die result or sum"
   ]
  },
  {
   "cell_type": "code",
   "execution_count": 8,
   "metadata": {
    "scrolled": true
   },
   "outputs": [],
   "source": [
    "results = []\n",
    "\n",
    "for i in range(100000):\n",
    "    dice = [ random.randint(1, 6), random.randint(1,6)]\n",
    "\n",
    "    result = [ dice[0], dice[1], dice[0]+dice[1]]\n",
    "    \n",
    "    results.append(result)"
   ]
  },
  {
   "cell_type": "code",
   "execution_count": 9,
   "metadata": {},
   "outputs": [
    {
     "name": "stdout",
     "output_type": "stream",
     "text": [
      "{1: 0.33412, 2: 0.35956, 3: 0.3913, 4: 0.41781, 5: 0.44338, 6: 0.47082, 7: 0.16795, 8: 0.1369, 9: 0.1127, 10: 0.08375, 11: 0.05383, 12: 0.02788}\n"
     ]
    }
   ],
   "source": [
    "flat_results = [item for sublist in results for item in sublist]\n",
    "\n",
    "\n",
    "d = {x:flat_results.count(x)/N for x in set(flat_results)}\n",
    "\n",
    "print(d)"
   ]
  },
  {
   "cell_type": "code",
   "execution_count": 10,
   "metadata": {},
   "outputs": [
    {
     "name": "stdout",
     "output_type": "stream",
     "text": [
      "[(1, 0.33412), (2, 0.35956), (3, 0.3913), (4, 0.41781), (5, 0.44338), (6, 0.47082), (7, 0.16795), (8, 0.1369), (9, 0.1127), (10, 0.08375), (11, 0.05383), (12, 0.02788)]\n"
     ]
    },
    {
     "data": {
      "image/png": "[encoded data removed]",
      "text/plain": [
       "<Figure size 432x288 with 1 Axes>"
      ]
     },
     "metadata": {},
     "output_type": "display_data"
    }
   ],
   "source": [
    "lists = sorted(d.items()) # sorted by key, return a list of tuples\n",
    "print(lists)\n",
    "\n",
    "x, y = zip(*lists) # unpack a list of pairs into two tuples\n",
    "\n",
    "plt.plot(x, y)\n",
    "plt.ylim(ymin=0, ymax=1)\n",
    "plt.show()"
   ]
  },
  {
   "cell_type": "markdown",
   "metadata": {},
   "source": [
    "## Citizens with double activation\n",
    "\n",
    "Citizens like *Paladin* and *Butcher* activate with double results, 9/10 and 11/12 respectively."
   ]
  },
  {
   "cell_type": "code",
   "execution_count": 11,
   "metadata": {},
   "outputs": [
    {
     "name": "stdout",
     "output_type": "stream",
     "text": [
      "{1: 0.33412, 2: 0.35956, 3: 0.3913, 4: 0.41781, 5: 0.44338, 6: 0.47082, 7: 0.16795, 8: 0.1369, 9: 0.19645, 10: 0.19645, 11: 0.08171, 12: 0.08171}\n"
     ]
    }
   ],
   "source": [
    "# Paladin activates with 9/10\n",
    "d[9] = d[9] + d[10]\n",
    "d[10] = d[9]\n",
    "\n",
    "# Butcher activates with 11/12\n",
    "d[11] = d[11] + d[12]\n",
    "d[12] = d[11]\n",
    "\n",
    "print(d)"
   ]
  },
  {
   "cell_type": "code",
   "execution_count": 12,
   "metadata": {},
   "outputs": [
    {
     "name": "stdout",
     "output_type": "stream",
     "text": [
      "[(1, 0.33412), (2, 0.35956), (3, 0.3913), (4, 0.41781), (5, 0.44338), (6, 0.47082), (7, 0.16795), (8, 0.1369), (9, 0.19645), (10, 0.19645), (11, 0.08171), (12, 0.08171)]\n"
     ]
    },
    {
     "data": {
      "image/png": "[encoded data removed]",
      "text/plain": [
       "<Figure size 432x288 with 1 Axes>"
      ]
     },
     "metadata": {},
     "output_type": "display_data"
    }
   ],
   "source": [
    "lists = sorted(d.items()) # sorted by key, return a list of tuples\n",
    "print(lists)\n",
    "\n",
    "x, y = zip(*lists) # unpack a list of pairs into two tuples\n",
    "\n",
    "plt.plot(x, y)\n",
    "plt.ylim(ymin=0, ymax=1)\n",
    "plt.show()"
   ]
  },
  {
   "cell_type": "markdown",
   "metadata": {},
   "source": [
    "## Strategy simulation"
   ]
  },
  {
   "cell_type": "markdown",
   "metadata": {},
   "source": [
    "### 666"
   ]
  },
  {
   "cell_type": "code",
   "execution_count": 13,
   "metadata": {},
   "outputs": [
    {
     "name": "stdout",
     "output_type": "stream",
     "text": [
      "1.12003\n"
     ]
    }
   ],
   "source": [
    "test_values = [6,6,7]\n",
    "\n",
    "scores = []\n",
    "\n",
    "for r in range(100000):\n",
    "    \n",
    "    dice = [random.randint(1,6), random.randint(1,6)]\n",
    "    \n",
    "    dice.append(dice[0]+dice[1])\n",
    "    \n",
    "    scores.append(sum([test_values.count(i) for i in dice if i in test_values]))\n",
    "\n",
    "import numpy\n",
    "print(numpy.mean(scores))"
   ]
  },
  {
   "cell_type": "code",
   "execution_count": 14,
   "metadata": {
    "scrolled": false
   },
   "outputs": [],
   "source": [
    "from itertools import product\n",
    "import numpy\n",
    "\n",
    "a = product([1,2,3,4,5,6,7,8,9,10,11,12], [1,2,3,4,5,6,7,8,9,10,11,12], [1,2,3,4,5,6,7,8,9,10,11,12])\n",
    "\n",
    "\n",
    "total = []\n",
    "for test_values in a:\n",
    "    \n",
    "    scores = []\n",
    "    for r in range(10000):\n",
    "    \n",
    "        dice = [random.randint(1,6), random.randint(1,6)]\n",
    "\n",
    "        dice.append(dice[0]+dice[1])\n",
    "\n",
    "        scores.append(sum([test_values.count(i) for i in dice if i in test_values]))\n",
    "        \n",
    "    t = ((test_values), numpy.mean(scores))\n",
    "    total.append(t)"
   ]
  },
  {
   "cell_type": "code",
   "execution_count": 15,
   "metadata": {},
   "outputs": [
    {
     "name": "stdout",
     "output_type": "stream",
     "text": [
      "[((6, 6, 6), 1.4325), ((6, 5, 6), 1.397), ((6, 6, 5), 1.3967), ((6, 5, 5), 1.3746), ((5, 6, 6), 1.3742), ((5, 5, 6), 1.3673), ((6, 4, 6), 1.3537), ((4, 6, 6), 1.3517), ((6, 6, 4), 1.3423), ((6, 4, 5), 1.3417)]\n"
     ]
    }
   ],
   "source": [
    "t = sorted(total, key=lambda k: k[1])[::-1]\n",
    "\n",
    "print(t[:10])"
   ]
  }
 ],
 "metadata": {
  "kernelspec": {
   "display_name": "Python 3",
   "language": "python",
   "name": "python3"
  },
  "language_info": {
   "codemirror_mode": {
    "name": "ipython",
    "version": 3
   },
   "file_extension": ".py",
   "mimetype": "text/x-python",
   "name": "python",
   "nbconvert_exporter": "python",
   "pygments_lexer": "ipython3",
   "version": "3.6.5"
  }
 },
 "nbformat": 4,
 "nbformat_minor": 2
}
