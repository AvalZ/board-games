{
 "cells": [
  {
   "cell_type": "markdown",
   "metadata": {},
   "source": [
    "# Citizen activation probability for Valeria Card Kingdom Harvest Phase"
   ]
  },
  {
   "cell_type": "code",
   "execution_count": 190,
   "metadata": {},
   "outputs": [],
   "source": [
    "# Setup\n",
    "\n",
    "N = 100000"
   ]
  },
  {
   "cell_type": "markdown",
   "metadata": {},
   "source": [
    "## Normal single die distribution"
   ]
  },
  {
   "cell_type": "code",
   "execution_count": 191,
   "metadata": {},
   "outputs": [
    {
     "name": "stdout",
     "output_type": "stream",
     "text": [
      "{1: 0.1663, 2: 0.16787, 3: 0.16652, 4: 0.16673, 5: 0.16664, 6: 0.16594}\n"
     ]
    }
   ],
   "source": [
    "\n",
    "normal_results = []\n",
    "\n",
    "for i in range(N):\n",
    "    normal_die = random.randint(1,6)\n",
    "    \n",
    "    normal_results.append(normal_die)\n",
    "\n",
    "d = {x:normal_results.count(x)/N  for x in set(normal_results)}\n",
    "print(d)"
   ]
  },
  {
   "cell_type": "code",
   "execution_count": 192,
   "metadata": {},
   "outputs": [
    {
     "name": "stdout",
     "output_type": "stream",
     "text": [
      "[(1, 0.1663), (2, 0.16787), (3, 0.16652), (4, 0.16673), (5, 0.16664), (6, 0.16594)]\n"
     ]
    },
    {
     "data": {
      "image/png": "[encoded data removed]",
      "text/plain": [
       "<Figure size 432x288 with 1 Axes>"
      ]
     },
     "metadata": {},
     "output_type": "display_data"
    }
   ],
   "source": [
    "import matplotlib.pyplot as plt\n",
    "\n",
    "lists = sorted(d.items()) # sorted by key, return a list of tuples\n",
    "print(lists)\n",
    "\n",
    "x, y = zip(*lists) # unpack a list of pairs into two tuples\n",
    "\n",
    "plt.plot(x, y)\n",
    "plt.ylim(ymin=0, ymax=1)\n",
    "plt.show()"
   ]
  },
  {
   "cell_type": "markdown",
   "metadata": {},
   "source": [
    "A Citizen is activated when its activation number is matched by either\n",
    "\n",
    "* the first die,\n",
    "* the second die,\n",
    "* the sum of the two dice"
   ]
  },
  {
   "cell_type": "markdown",
   "metadata": {},
   "source": [
    "## Normal two dice distribution"
   ]
  },
  {
   "cell_type": "code",
   "execution_count": 193,
   "metadata": {},
   "outputs": [
    {
     "name": "stdout",
     "output_type": "stream",
     "text": [
      "{2: 0.02762, 3: 0.05572, 4: 0.08284, 5: 0.11183, 6: 0.13921, 7: 0.16629, 8: 0.1379, 9: 0.11092, 10: 0.08369, 11: 0.05643, 12: 0.02755}\n"
     ]
    }
   ],
   "source": [
    "normal_results = []\n",
    "\n",
    "for i in range(N):\n",
    "    normal_dice = [random.randint(1,6), random.randint(1,6)]\n",
    "    \n",
    "    normal_results.append(normal_dice[0] + normal_dice[1])\n",
    "\n",
    "d = {x:normal_results.count(x)/N for x in set(normal_results)}\n",
    "print(d)"
   ]
  },
  {
   "cell_type": "code",
   "execution_count": 194,
   "metadata": {
    "scrolled": false
   },
   "outputs": [
    {
     "name": "stdout",
     "output_type": "stream",
     "text": [
      "[(2, 0.02762), (3, 0.05572), (4, 0.08284), (5, 0.11183), (6, 0.13921), (7, 0.16629), (8, 0.1379), (9, 0.11092), (10, 0.08369), (11, 0.05643), (12, 0.02755)]\n"
     ]
    },
    {
     "data": {
      "image/png": "[encoded data removed]",
      "text/plain": [
       "<Figure size 432x288 with 1 Axes>"
      ]
     },
     "metadata": {},
     "output_type": "display_data"
    }
   ],
   "source": [
    "import matplotlib.pyplot as plt\n",
    "\n",
    "lists = sorted(d.items()) # sorted by key, return a list of tuples\n",
    "print(lists)\n",
    "\n",
    "x, y = zip(*lists) # unpack a list of pairs into two tuples\n",
    "\n",
    "plt.plot(x, y)\n",
    "plt.ylim(ymin=0, ymax=1)\n",
    "plt.show()"
   ]
  },
  {
   "cell_type": "markdown",
   "metadata": {},
   "source": [
    "## Two dice, count single die result or sum"
   ]
  },
  {
   "cell_type": "code",
   "execution_count": 195,
   "metadata": {
    "scrolled": true
   },
   "outputs": [],
   "source": [
    "results = []\n",
    "\n",
    "for i in range(100000):\n",
    "    dice = [ random.randint(1, 6), random.randint(1,6)]\n",
    "\n",
    "    result = [ dice[0], dice[1], dice[0]+dice[1]]\n",
    "    \n",
    "    results.append(result)"
   ]
  },
  {
   "cell_type": "code",
   "execution_count": 196,
   "metadata": {},
   "outputs": [
    {
     "name": "stdout",
     "output_type": "stream",
     "text": [
      "{1: 0.3314, 2: 0.3633, 3: 0.38887, 4: 0.41789, 5: 0.4427, 6: 0.47222, 7: 0.16598, 8: 0.13923, 9: 0.11157, 10: 0.08372, 11: 0.05556, 12: 0.02756}\n"
     ]
    }
   ],
   "source": [
    "flat_results = [item for sublist in results for item in sublist]\n",
    "\n",
    "\n",
    "d = {x:flat_results.count(x)/N for x in set(flat_results)}\n",
    "\n",
    "print(d)"
   ]
  },
  {
   "cell_type": "code",
   "execution_count": 197,
   "metadata": {},
   "outputs": [
    {
     "name": "stdout",
     "output_type": "stream",
     "text": [
      "[(1, 0.3314), (2, 0.3633), (3, 0.38887), (4, 0.41789), (5, 0.4427), (6, 0.47222), (7, 0.16598), (8, 0.13923), (9, 0.11157), (10, 0.08372), (11, 0.05556), (12, 0.02756)]\n"
     ]
    },
    {
     "data": {
      "image/png": "[encoded data removed]",
      "text/plain": [
       "<Figure size 432x288 with 1 Axes>"
      ]
     },
     "metadata": {},
     "output_type": "display_data"
    }
   ],
   "source": [
    "import matplotlib.pyplot as plt\n",
    "\n",
    "lists = sorted(d.items()) # sorted by key, return a list of tuples\n",
    "print(lists)\n",
    "\n",
    "x, y = zip(*lists) # unpack a list of pairs into two tuples\n",
    "\n",
    "plt.plot(x, y)\n",
    "plt.ylim(ymin=0, ymax=1)\n",
    "plt.show()"
   ]
  },
  {
   "cell_type": "markdown",
   "metadata": {},
   "source": [
    "## Citizens with double activation\n",
    "\n",
    "Citizens like *Paladin* and *Butcher* activate with double results, 9/10 and 11/12 respectively."
   ]
  },
  {
   "cell_type": "code",
   "execution_count": 198,
   "metadata": {},
   "outputs": [
    {
     "name": "stdout",
     "output_type": "stream",
     "text": [
      "{1: 0.3314, 2: 0.3633, 3: 0.38887, 4: 0.41789, 5: 0.4427, 6: 0.47222, 7: 0.16598, 8: 0.13923, 9: 0.19529000000000002, 10: 0.19529000000000002, 11: 0.08312, 12: 0.08312}\n"
     ]
    }
   ],
   "source": [
    "# Paladin activates with 9/10\n",
    "d[9] = d[9] + d[10]\n",
    "d[10] = d[9]\n",
    "\n",
    "# Butcher activates with 11/12\n",
    "d[11] = d[11] + d[12]\n",
    "d[12] = d[11]\n",
    "\n",
    "print(d)"
   ]
  },
  {
   "cell_type": "code",
   "execution_count": 199,
   "metadata": {},
   "outputs": [
    {
     "name": "stdout",
     "output_type": "stream",
     "text": [
      "[(1, 0.3314), (2, 0.3633), (3, 0.38887), (4, 0.41789), (5, 0.4427), (6, 0.47222), (7, 0.16598), (8, 0.13923), (9, 0.19529000000000002), (10, 0.19529000000000002), (11, 0.08312), (12, 0.08312)]\n"
     ]
    },
    {
     "data": {
      "image/png": "[encoded data removed]",
      "text/plain": [
       "<Figure size 432x288 with 1 Axes>"
      ]
     },
     "metadata": {},
     "output_type": "display_data"
    }
   ],
   "source": [
    "import matplotlib.pyplot as plt\n",
    "\n",
    "lists = sorted(d.items()) # sorted by key, return a list of tuples\n",
    "print(lists)\n",
    "\n",
    "x, y = zip(*lists) # unpack a list of pairs into two tuples\n",
    "\n",
    "plt.plot(x, y)\n",
    "plt.ylim(ymin=0, ymax=1)\n",
    "plt.show()"
   ]
  }
 ],
 "metadata": {
  "kernelspec": {
   "display_name": "Python 3",
   "language": "python",
   "name": "python3"
  },
  "language_info": {
   "codemirror_mode": {
    "name": "ipython",
    "version": 3
   },
   "file_extension": ".py",
   "mimetype": "text/x-python",
   "name": "python",
   "nbconvert_exporter": "python",
   "pygments_lexer": "ipython3",
   "version": "3.6.5"
  }
 },
 "nbformat": 4,
 "nbformat_minor": 2
}
